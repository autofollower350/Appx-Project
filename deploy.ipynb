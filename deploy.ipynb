{
  "nbformat": 4,
  "nbformat_minor": 0,
  "metadata": {
    "colab": {
      "provenance": [],
      "toc_visible": true,
      "authorship_tag": "ABX9TyOkNPQc215NkOGHpj4ZuMQt",
      "include_colab_link": true
    },
    "kernelspec": {
      "name": "python3",
      "display_name": "Python 3"
    },
    "language_info": {
      "name": "python"
    }
  },
  "cells": [
    {
      "cell_type": "markdown",
      "metadata": {
        "id": "view-in-github",
        "colab_type": "text"
      },
      "source": [
        "<a href=\"https://colab.research.google.com/github/autofollower350/Appx-Project/blob/main/deploy.ipynb\" target=\"_parent\"><img src=\"https://colab.research.google.com/assets/colab-badge.svg\" alt=\"Open In Colab\"/></a>"
      ]
    },
    {
      "cell_type": "code",
      "execution_count": null,
      "metadata": {
        "id": "HTyIMNZSNKA1"
      },
      "outputs": [],
      "source": [
        "# ✅ Google Colab में Nest Asyncio इनेबल करें\n",
        "import nest_asyncio\n",
        "nest_asyncio.apply()\n",
        "\n",
        "# ✅ Google Colab में जरूरी पैकेज इंस्टॉल करें\n",
        "!pip install pyrogram tgcrypto yt-dlp nest_asyncio\n",
        "\n",
        "# ✅ GitHub से बॉट के कोड को डाउनलोड करें\n",
        "!git clone https://github.com/autofollower350/Appx-Project.git\n",
        "\n",
        "# ✅ वर्किंग डायरेक्टरी सेट करें\n",
        "%cd Appx-Project\n",
        "\n",
        "# ✅ Config सेटअप (Google Colab में API Keys यूजर से ले सकते हैं)\n",
        "import os\n",
        "\n",
        "API_ID = input(\"Enter your API_ID: \")\n",
        "API_HASH = input(\"Enter your API_HASH: \")\n",
        "BOT_TOKEN = input(\"Enter your BOT_TOKEN: \")\n",
        "\n",
        "with open(\"bot/config.py\", \"w\") as f:\n",
        "    f.write(f'''\n",
        "    import nest_asyncio\n",
        "    nest_asyncio.apply()\n",
        "\n",
        "    API_ID = \"{API_ID}\"\n",
        "    API_HASH = \"{API_HASH}\"\n",
        "    BOT_TOKEN = \"{BOT_TOKEN}\"\n",
        "    ''')\n",
        "\n",
        "    print(\"✅ Config file updated successfully!\")\n",
        "\n",
        "    # ✅ बॉट स्टार्ट करें\n",
        "    !python bot/bot.py"
      ]
    }
  ]
}